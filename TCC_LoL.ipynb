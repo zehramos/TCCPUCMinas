{
 "cells": [
  {
   "cell_type": "code",
   "execution_count": null,
   "metadata": {},
   "outputs": [],
   "source": [
    "import pandas as pd\n",
    "import numpy as np\n",
    "import matplotlib.pyplot as plt\n",
    "import seaborn as sns\n",
    "from IPython.display import Image\n",
    "from statsmodels.stats.outliers_influence import variance_inflation_factor\n",
    "sns.set_style('whitegrid')\n",
    "%matplotlib inline\n",
    "\n",
    "import plotly.express as px\n",
    "\n",
    "from sklearn.metrics import f1_score\n",
    "from sklearn.model_selection import train_test_split\n",
    "from sklearn.model_selection import RepeatedKFold\n",
    "from sklearn.model_selection import cross_val_score\n",
    "from sklearn.linear_model import LogisticRegression\n",
    "from sklearn.tree import DecisionTreeClassifier\n",
    "from sklearn.ensemble import RandomForestClassifier\n",
    "from sklearn.model_selection import LeaveOneOut\n",
    "from sklearn import metrics\n",
    "\n",
    "\n",
    "from matplotlib import pyplot"
   ]
  },
  {
   "cell_type": "code",
   "execution_count": null,
   "metadata": {},
   "outputs": [],
   "source": [
    "lol_data = pd.read_csv(\"C:/Users/jose.ramos/Documents/python/TCC/input/high_diamond_ranked_10min.csv\")"
   ]
  },
  {
   "cell_type": "markdown",
   "metadata": {},
   "source": []
  },
  {
   "cell_type": "code",
   "execution_count": null,
   "metadata": {},
   "outputs": [],
   "source": [
    "lol_data.head()"
   ]
  },
  {
   "cell_type": "code",
   "execution_count": null,
   "metadata": {},
   "outputs": [],
   "source": [
    "lol_data.info()"
   ]
  },
  {
   "cell_type": "code",
   "execution_count": null,
   "metadata": {},
   "outputs": [],
   "source": [
    "lol_data.shape"
   ]
  },
  {
   "cell_type": "code",
   "execution_count": null,
   "metadata": {},
   "outputs": [],
   "source": [
    "lol_data.describe()"
   ]
  },
  {
   "cell_type": "code",
   "execution_count": null,
   "metadata": {},
   "outputs": [],
   "source": [
    "px.imshow(lol_data.corr(), text_auto=True, aspect=\"auto\")"
   ]
  },
  {
   "cell_type": "code",
   "execution_count": null,
   "metadata": {},
   "outputs": [],
   "source": [
    "lol_data_final = lol_data.drop(['gameId', 'redGoldDiff','redExperienceDiff', 'redFirstBlood'], axis=1)"
   ]
  },
  {
   "cell_type": "markdown",
   "metadata": {},
   "source": [
    "### Criação das bases\n"
   ]
  },
  {
   "cell_type": "code",
   "execution_count": null,
   "metadata": {},
   "outputs": [],
   "source": [
    "X_lol = lol_data_final.drop(columns=['blueWins']).values\n",
    "Y_lol = lol_data_final['blueWins'].values\n",
    "X_train_lol, X_test_lol, Y_train_lol, Y_test_lol = train_test_split(X_lol,Y_lol, \n",
    "                                                                                      test_size=0.3, random_state=42)"
   ]
  },
  {
   "cell_type": "code",
   "execution_count": null,
   "metadata": {},
   "outputs": [],
   "source": [
    "cv = RepeatedKFold(n_splits=10, n_repeats=3, random_state=42)"
   ]
  },
  {
   "cell_type": "markdown",
   "metadata": {},
   "source": [
    "Para a criação do modelo de machine larning foram utilizados os seguintes algoritmos para predizer o resultado das partidas: \n",
    "•\tRegressão Logística\n",
    "•\tÁrvore de decisão\n",
    "•\tFloresta aleatória\n",
    "Já para avaliar os modelos utilizados, foram utilizados o F1 Score e Repeated K-Fold Cross Validation. "
   ]
  },
  {
   "cell_type": "code",
   "execution_count": null,
   "metadata": {},
   "outputs": [],
   "source": [
    "lol_log_model = LogisticRegression(random_state=42, max_iter=10000)\n",
    "lol_log_model.fit(X_train_lol,Y_train_lol)"
   ]
  },
  {
   "cell_type": "code",
   "execution_count": null,
   "metadata": {},
   "outputs": [],
   "source": [
    "lol_log_f1scores = cross_val_score(lol_log_model, X_train_lol, Y_train_lol, \n",
    "                                       scoring=\"f1\",cv=cv, n_jobs=-1)\n",
    "\n",
    "lol_log_ROCscores = cross_val_score(lol_log_model, X_train_lol, Y_train_lol,\n",
    "                                        scoring=\"roc_auc\", cv=cv, n_jobs=-1)"
   ]
  },
  {
   "cell_type": "code",
   "execution_count": null,
   "metadata": {},
   "outputs": [],
   "source": [
    "print('F1: %.3f (%.3f)' % (np.mean(lol_log_f1scores), np.std(lol_log_f1scores)))\n",
    "print('ROC: %.3f (%.3f)' % (np.mean(lol_log_ROCscores), np.std(lol_log_ROCscores)))"
   ]
  },
  {
   "cell_type": "code",
   "execution_count": null,
   "metadata": {},
   "outputs": [],
   "source": [
    "lol_dt_model = DecisionTreeClassifier(criterion = 'entropy', random_state = 42)\n",
    "lol_dt_model.fit(X_train_lol,Y_train_lol)"
   ]
  },
  {
   "cell_type": "code",
   "execution_count": null,
   "metadata": {},
   "outputs": [],
   "source": [
    "lol_dt_f1scores = cross_val_score(lol_dt_model, X_train_lol, Y_train_lol, \n",
    "                                    scoring=\"f1\",cv=cv, n_jobs=-1)\n",
    "lol_dt_ROCscores = cross_val_score(lol_dt_model, X_train_lol, Y_train_lol,\n",
    "                                       scoring=\"roc_auc\", cv=cv, n_jobs=-1)"
   ]
  },
  {
   "cell_type": "code",
   "execution_count": null,
   "metadata": {},
   "outputs": [],
   "source": [
    "print('F1: %.3f (%.3f)' % (np.mean(lol_dt_f1scores), np.std(lol_dt_f1scores)))\n",
    "print('ROC: %.3f (%.3f)' % (np.mean(lol_dt_ROCscores), np.std(lol_dt_ROCscores)))"
   ]
  },
  {
   "cell_type": "code",
   "execution_count": null,
   "metadata": {},
   "outputs": [],
   "source": [
    "lol_rf_model = RandomForestClassifier(criterion = 'entropy', random_state = 42)\n",
    "lol_rf_model.fit(X_train_lol,Y_train_lol)"
   ]
  },
  {
   "cell_type": "code",
   "execution_count": null,
   "metadata": {},
   "outputs": [],
   "source": [
    "lol_rf_f1scores = cross_val_score(lol_rf_model, X_train_lol, Y_train_lol, \n",
    "                                      scoring=\"f1\",cv=cv, n_jobs=-1)\n",
    "\n",
    "lol_rf_ROCscores = cross_val_score(lol_rf_model, X_train_lol, Y_train_lol,\n",
    "                                       scoring=\"roc_auc\", cv=cv, n_jobs=-1)"
   ]
  },
  {
   "cell_type": "code",
   "execution_count": null,
   "metadata": {},
   "outputs": [],
   "source": [
    "print('F1: %.3f (%.3f)' % (np.mean(lol_rf_f1scores), np.std(lol_rf_f1scores)))\n",
    "print('ROC: %.3f (%.3f)' % (np.mean(lol_rf_ROCscores), np.std(lol_rf_ROCscores)))"
   ]
  },
  {
   "cell_type": "markdown",
   "metadata": {},
   "source": [
    "\n",
    "\n",
    "### Resultados comparados"
   ]
  },
  {
   "cell_type": "code",
   "execution_count": null,
   "metadata": {},
   "outputs": [],
   "source": [
    "print('Logisitic Regression')\n",
    "print('F1: %.3f (%.3f)' % (np.mean(lol_log_f1scores), np.std(lol_log_f1scores)))\n",
    "print('ROC: %.3f (%.3f)' % (np.mean(lol_log_ROCscores), np.std(lol_log_ROCscores)))\n",
    "print('Decision Tree')\n",
    "print('F1: %.3f (%.3f)' % (np.mean(lol_dt_f1scores), np.std(lol_dt_f1scores)))\n",
    "print('ROC: %.3f (%.3f)' % (np.mean(lol_dt_ROCscores), np.std(lol_dt_ROCscores)))\n",
    "print('Random Forest')\n",
    "print('F1: %.3f (%.3f)' % (np.mean(lol_rf_f1scores), np.std(lol_rf_f1scores)))\n",
    "print('ROC: %.3f (%.3f)' % (np.mean(lol_rf_ROCscores), np.std(lol_rf_ROCscores)))"
   ]
  },
  {
   "cell_type": "code",
   "execution_count": null,
   "metadata": {},
   "outputs": [],
   "source": [
    "y_lol_predict = lol_log_model.predict(X_test_lol)"
   ]
  },
  {
   "cell_type": "code",
   "execution_count": null,
   "metadata": {},
   "outputs": [],
   "source": [
    "print(\"Accuracy Score\", metrics.accuracy_score(Y_test_lol, y_lol_predict))\n",
    "print(\"F1 Score\", metrics.f1_score(Y_test_lol, y_lol_predict))\n",
    "print(\"ROC-AUC Score\", metrics.roc_auc_score(Y_test_lol, y_lol_predict))"
   ]
  },
  {
   "cell_type": "markdown",
   "metadata": {},
   "source": [
    "### Importancia"
   ]
  },
  {
   "cell_type": "code",
   "execution_count": null,
   "metadata": {},
   "outputs": [],
   "source": [
    "support_feature_importance=pd.DataFrame({\n",
    "    'Random Forest':lol_rf_model.feature_importances_,\n",
    "    'Decision Tree':lol_dt_model.feature_importances_,\n",
    "    'Logistic Regression':[abs(i) for i in lol_log_model.coef_[0]]\n",
    "},index=lol_data_final.drop(columns=['blueWins']).columns)\n",
    "support_feature_importance.sort_values(by='Logistic Regression',ascending=True,inplace=True)\n",
    "\n",
    "support_feature_importance.plot(kind='barh',figsize=(12,10), width=.85, colormap='Paired', fontsize=15)"
   ]
  },
  {
   "cell_type": "markdown",
   "metadata": {},
   "source": []
  },
  {
   "cell_type": "code",
   "execution_count": null,
   "metadata": {},
   "outputs": [],
   "source": []
  },
  {
   "cell_type": "code",
   "execution_count": null,
   "metadata": {},
   "outputs": [],
   "source": []
  }
 ],
 "metadata": {
  "interpreter": {
   "hash": "31c42ce7fb675859d936fa1946250d56f6e926562229eaf05189b96a73860581"
  },
  "kernelspec": {
   "display_name": "Python 3.9.12 64-bit (windows store)",
   "language": "python",
   "name": "python3"
  },
  "language_info": {
   "codemirror_mode": {
    "name": "ipython",
    "version": 3
   },
   "file_extension": ".py",
   "mimetype": "text/x-python",
   "name": "python",
   "nbconvert_exporter": "python",
   "pygments_lexer": "ipython3",
   "version": "3.9.12"
  },
  "orig_nbformat": 4
 },
 "nbformat": 4,
 "nbformat_minor": 2
}
